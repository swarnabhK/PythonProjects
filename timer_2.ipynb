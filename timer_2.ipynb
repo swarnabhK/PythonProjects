{
 "cells": [
  {
   "cell_type": "markdown",
   "id": "3915c307",
   "metadata": {},
   "source": [
    "### A Timer in python"
   ]
  },
  {
   "cell_type": "code",
   "execution_count": 1,
   "id": "fb6c0651",
   "metadata": {},
   "outputs": [],
   "source": [
    "from time import sleep"
   ]
  },
  {
   "cell_type": "code",
   "execution_count": null,
   "id": "7314ac71",
   "metadata": {},
   "outputs": [
    {
     "name": "stdout",
     "output_type": "stream",
     "text": [
      "Time remaining: 8.421    \r"
     ]
    }
   ],
   "source": [
    "seconds_left = 11\n",
    "interval = .001 #represent in milliseconds\n",
    "while(seconds_left>=0):\n",
    "    sleep(interval)\n",
    "    print(f\"Time remaining: {seconds_left:.3f}   \",end='\\r')\n",
    "    seconds_left = seconds_left - interval\n",
    "print(\"Dinggggg       \")"
   ]
  },
  {
   "cell_type": "code",
   "execution_count": null,
   "id": "86b940dd",
   "metadata": {},
   "outputs": [],
   "source": []
  }
 ],
 "metadata": {
  "kernelspec": {
   "display_name": "Python 3",
   "language": "python",
   "name": "python3"
  },
  "language_info": {
   "codemirror_mode": {
    "name": "ipython",
    "version": 3
   },
   "file_extension": ".py",
   "mimetype": "text/x-python",
   "name": "python",
   "nbconvert_exporter": "python",
   "pygments_lexer": "ipython3",
   "version": "3.8.8"
  }
 },
 "nbformat": 4,
 "nbformat_minor": 5
}
